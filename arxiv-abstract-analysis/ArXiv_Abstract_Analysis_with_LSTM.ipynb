{
 "cells": [
  {
   "cell_type": "markdown",
   "metadata": {
    "id": "iolIPhVb56-M"
   },
   "source": [
    "# ArXiv Abstract Analysis with LSTM\n",
    "Nama: Bryan Herdianto  \n",
    "Email: bryan.herdianto17@gmail.com"
   ]
  },
  {
   "cell_type": "code",
   "execution_count": 1,
   "metadata": {
    "colab": {
     "base_uri": "https://localhost:8080/",
     "height": 423
    },
    "id": "ESgTjxsm5jXB",
    "outputId": "5ae7fbcd-8511-4e6f-d9c6-aad30e613e93"
   },
   "outputs": [
    {
     "data": {
      "text/html": [
       "<div>\n",
       "<style scoped>\n",
       "    .dataframe tbody tr th:only-of-type {\n",
       "        vertical-align: middle;\n",
       "    }\n",
       "\n",
       "    .dataframe tbody tr th {\n",
       "        vertical-align: top;\n",
       "    }\n",
       "\n",
       "    .dataframe thead th {\n",
       "        text-align: right;\n",
       "    }\n",
       "</style>\n",
       "<table border=\"1\" class=\"dataframe\">\n",
       "  <thead>\n",
       "    <tr style=\"text-align: right;\">\n",
       "      <th></th>\n",
       "      <th>Abstracts</th>\n",
       "      <th>categories</th>\n",
       "    </tr>\n",
       "  </thead>\n",
       "  <tbody>\n",
       "    <tr>\n",
       "      <th>0</th>\n",
       "      <td>Reusing features in deep networks through dens...</td>\n",
       "      <td>['cs.CV']</td>\n",
       "    </tr>\n",
       "    <tr>\n",
       "      <th>1</th>\n",
       "      <td>Visual defect detection (VDD) for high-mix low...</td>\n",
       "      <td>['cs.CV']</td>\n",
       "    </tr>\n",
       "    <tr>\n",
       "      <th>2</th>\n",
       "      <td>Dense object detectors rely on the sliding-win...</td>\n",
       "      <td>['cs.CV']</td>\n",
       "    </tr>\n",
       "    <tr>\n",
       "      <th>3</th>\n",
       "      <td>The state-of-the-art object detection and imag...</td>\n",
       "      <td>['cs.CV']</td>\n",
       "    </tr>\n",
       "    <tr>\n",
       "      <th>4</th>\n",
       "      <td>This paper explores self-supervised learning o...</td>\n",
       "      <td>['cs.CV']</td>\n",
       "    </tr>\n",
       "    <tr>\n",
       "      <th>...</th>\n",
       "      <td>...</td>\n",
       "      <td>...</td>\n",
       "    </tr>\n",
       "    <tr>\n",
       "      <th>34063</th>\n",
       "      <td>Spatiotemporal time series is the foundation o...</td>\n",
       "      <td>['cs.LG', 'stat.ML']</td>\n",
       "    </tr>\n",
       "    <tr>\n",
       "      <th>34064</th>\n",
       "      <td>The wide-spread adoption of representation lea...</td>\n",
       "      <td>['cs.LG', 'stat.ML']</td>\n",
       "    </tr>\n",
       "    <tr>\n",
       "      <th>34065</th>\n",
       "      <td>This work pioneers regret analysis of risk-sen...</td>\n",
       "      <td>['cs.LG', 'stat.ML']</td>\n",
       "    </tr>\n",
       "    <tr>\n",
       "      <th>34066</th>\n",
       "      <td>Graphs arise naturally in many real-world appl...</td>\n",
       "      <td>['cs.LG', 'stat.ML']</td>\n",
       "    </tr>\n",
       "    <tr>\n",
       "      <th>34067</th>\n",
       "      <td>When observing a phenomenon, severe cases or a...</td>\n",
       "      <td>['cs.LG', 'stat.ML']</td>\n",
       "    </tr>\n",
       "  </tbody>\n",
       "</table>\n",
       "<p>34068 rows × 2 columns</p>\n",
       "</div>"
      ],
      "text/plain": [
       "                                               Abstracts            categories\n",
       "0      Reusing features in deep networks through dens...             ['cs.CV']\n",
       "1      Visual defect detection (VDD) for high-mix low...             ['cs.CV']\n",
       "2      Dense object detectors rely on the sliding-win...             ['cs.CV']\n",
       "3      The state-of-the-art object detection and imag...             ['cs.CV']\n",
       "4      This paper explores self-supervised learning o...             ['cs.CV']\n",
       "...                                                  ...                   ...\n",
       "34063  Spatiotemporal time series is the foundation o...  ['cs.LG', 'stat.ML']\n",
       "34064  The wide-spread adoption of representation lea...  ['cs.LG', 'stat.ML']\n",
       "34065  This work pioneers regret analysis of risk-sen...  ['cs.LG', 'stat.ML']\n",
       "34066  Graphs arise naturally in many real-world appl...  ['cs.LG', 'stat.ML']\n",
       "34067  When observing a phenomenon, severe cases or a...  ['cs.LG', 'stat.ML']\n",
       "\n",
       "[34068 rows x 2 columns]"
      ]
     },
     "execution_count": 1,
     "metadata": {},
     "output_type": "execute_result"
    }
   ],
   "source": [
    "import pandas as pd\n",
    "df = pd.read_csv('https://raw.githubusercontent.com/bryanherdianto/data-science-mini-projects/main/arxiv-abstract-analysis/arxiv34k6L.csv')\n",
    "df"
   ]
  },
  {
   "cell_type": "code",
   "execution_count": 2,
   "metadata": {
    "colab": {
     "base_uri": "https://localhost:8080/",
     "height": 1000
    },
    "id": "sltEQbXQ6oyk",
    "outputId": "1ae467b9-ee75-4017-f81e-f0007ce2e49b"
   },
   "outputs": [
    {
     "data": {
      "text/html": [
       "<div>\n",
       "<style scoped>\n",
       "    .dataframe tbody tr th:only-of-type {\n",
       "        vertical-align: middle;\n",
       "    }\n",
       "\n",
       "    .dataframe tbody tr th {\n",
       "        vertical-align: top;\n",
       "    }\n",
       "\n",
       "    .dataframe thead th {\n",
       "        text-align: right;\n",
       "    }\n",
       "</style>\n",
       "<table border=\"1\" class=\"dataframe\">\n",
       "  <thead>\n",
       "    <tr style=\"text-align: right;\">\n",
       "      <th></th>\n",
       "      <th>Abstracts</th>\n",
       "      <th>['cs.CV', 'cs.AI']</th>\n",
       "      <th>['cs.CV', 'cs.LG']</th>\n",
       "      <th>['cs.CV']</th>\n",
       "      <th>['cs.LG', 'cs.AI']</th>\n",
       "      <th>['cs.LG', 'stat.ML']</th>\n",
       "      <th>['cs.LG']</th>\n",
       "    </tr>\n",
       "  </thead>\n",
       "  <tbody>\n",
       "    <tr>\n",
       "      <th>0</th>\n",
       "      <td>Reusing features in deep networks through dens...</td>\n",
       "      <td>False</td>\n",
       "      <td>False</td>\n",
       "      <td>True</td>\n",
       "      <td>False</td>\n",
       "      <td>False</td>\n",
       "      <td>False</td>\n",
       "    </tr>\n",
       "    <tr>\n",
       "      <th>1</th>\n",
       "      <td>Visual defect detection (VDD) for high-mix low...</td>\n",
       "      <td>False</td>\n",
       "      <td>False</td>\n",
       "      <td>True</td>\n",
       "      <td>False</td>\n",
       "      <td>False</td>\n",
       "      <td>False</td>\n",
       "    </tr>\n",
       "    <tr>\n",
       "      <th>2</th>\n",
       "      <td>Dense object detectors rely on the sliding-win...</td>\n",
       "      <td>False</td>\n",
       "      <td>False</td>\n",
       "      <td>True</td>\n",
       "      <td>False</td>\n",
       "      <td>False</td>\n",
       "      <td>False</td>\n",
       "    </tr>\n",
       "    <tr>\n",
       "      <th>3</th>\n",
       "      <td>The state-of-the-art object detection and imag...</td>\n",
       "      <td>False</td>\n",
       "      <td>False</td>\n",
       "      <td>True</td>\n",
       "      <td>False</td>\n",
       "      <td>False</td>\n",
       "      <td>False</td>\n",
       "    </tr>\n",
       "    <tr>\n",
       "      <th>4</th>\n",
       "      <td>This paper explores self-supervised learning o...</td>\n",
       "      <td>False</td>\n",
       "      <td>False</td>\n",
       "      <td>True</td>\n",
       "      <td>False</td>\n",
       "      <td>False</td>\n",
       "      <td>False</td>\n",
       "    </tr>\n",
       "    <tr>\n",
       "      <th>...</th>\n",
       "      <td>...</td>\n",
       "      <td>...</td>\n",
       "      <td>...</td>\n",
       "      <td>...</td>\n",
       "      <td>...</td>\n",
       "      <td>...</td>\n",
       "      <td>...</td>\n",
       "    </tr>\n",
       "    <tr>\n",
       "      <th>34063</th>\n",
       "      <td>Spatiotemporal time series is the foundation o...</td>\n",
       "      <td>False</td>\n",
       "      <td>False</td>\n",
       "      <td>False</td>\n",
       "      <td>False</td>\n",
       "      <td>True</td>\n",
       "      <td>False</td>\n",
       "    </tr>\n",
       "    <tr>\n",
       "      <th>34064</th>\n",
       "      <td>The wide-spread adoption of representation lea...</td>\n",
       "      <td>False</td>\n",
       "      <td>False</td>\n",
       "      <td>False</td>\n",
       "      <td>False</td>\n",
       "      <td>True</td>\n",
       "      <td>False</td>\n",
       "    </tr>\n",
       "    <tr>\n",
       "      <th>34065</th>\n",
       "      <td>This work pioneers regret analysis of risk-sen...</td>\n",
       "      <td>False</td>\n",
       "      <td>False</td>\n",
       "      <td>False</td>\n",
       "      <td>False</td>\n",
       "      <td>True</td>\n",
       "      <td>False</td>\n",
       "    </tr>\n",
       "    <tr>\n",
       "      <th>34066</th>\n",
       "      <td>Graphs arise naturally in many real-world appl...</td>\n",
       "      <td>False</td>\n",
       "      <td>False</td>\n",
       "      <td>False</td>\n",
       "      <td>False</td>\n",
       "      <td>True</td>\n",
       "      <td>False</td>\n",
       "    </tr>\n",
       "    <tr>\n",
       "      <th>34067</th>\n",
       "      <td>When observing a phenomenon, severe cases or a...</td>\n",
       "      <td>False</td>\n",
       "      <td>False</td>\n",
       "      <td>False</td>\n",
       "      <td>False</td>\n",
       "      <td>True</td>\n",
       "      <td>False</td>\n",
       "    </tr>\n",
       "  </tbody>\n",
       "</table>\n",
       "<p>34068 rows × 7 columns</p>\n",
       "</div>"
      ],
      "text/plain": [
       "                                               Abstracts  ['cs.CV', 'cs.AI']  \\\n",
       "0      Reusing features in deep networks through dens...               False   \n",
       "1      Visual defect detection (VDD) for high-mix low...               False   \n",
       "2      Dense object detectors rely on the sliding-win...               False   \n",
       "3      The state-of-the-art object detection and imag...               False   \n",
       "4      This paper explores self-supervised learning o...               False   \n",
       "...                                                  ...                 ...   \n",
       "34063  Spatiotemporal time series is the foundation o...               False   \n",
       "34064  The wide-spread adoption of representation lea...               False   \n",
       "34065  This work pioneers regret analysis of risk-sen...               False   \n",
       "34066  Graphs arise naturally in many real-world appl...               False   \n",
       "34067  When observing a phenomenon, severe cases or a...               False   \n",
       "\n",
       "       ['cs.CV', 'cs.LG']  ['cs.CV']  ['cs.LG', 'cs.AI']  \\\n",
       "0                   False       True               False   \n",
       "1                   False       True               False   \n",
       "2                   False       True               False   \n",
       "3                   False       True               False   \n",
       "4                   False       True               False   \n",
       "...                   ...        ...                 ...   \n",
       "34063               False      False               False   \n",
       "34064               False      False               False   \n",
       "34065               False      False               False   \n",
       "34066               False      False               False   \n",
       "34067               False      False               False   \n",
       "\n",
       "       ['cs.LG', 'stat.ML']  ['cs.LG']  \n",
       "0                     False      False  \n",
       "1                     False      False  \n",
       "2                     False      False  \n",
       "3                     False      False  \n",
       "4                     False      False  \n",
       "...                     ...        ...  \n",
       "34063                  True      False  \n",
       "34064                  True      False  \n",
       "34065                  True      False  \n",
       "34066                  True      False  \n",
       "34067                  True      False  \n",
       "\n",
       "[34068 rows x 7 columns]"
      ]
     },
     "execution_count": 2,
     "metadata": {},
     "output_type": "execute_result"
    }
   ],
   "source": [
    "category = pd.get_dummies(df.categories)\n",
    "df_baru = pd.concat([df, category], axis=1)\n",
    "df_baru = df_baru.drop(columns='categories')\n",
    "df_baru"
   ]
  },
  {
   "cell_type": "code",
   "execution_count": 46,
   "metadata": {
    "id": "RttI1FTK6qNa"
   },
   "outputs": [],
   "source": [
    "abstraksi = df_baru['Abstracts'].values\n",
    "label = df_baru[[\"['cs.CV', 'cs.AI']\", \"['cs.CV', 'cs.LG']\", \"['cs.CV']\", \"['cs.LG', 'cs.AI']\", \"['cs.LG', 'stat.ML']\", \"['cs.LG']\"]].values"
   ]
  },
  {
   "cell_type": "code",
   "execution_count": 4,
   "metadata": {
    "id": "wbGCpN7Z6rmx"
   },
   "outputs": [],
   "source": [
    "from sklearn.model_selection import train_test_split\n",
    "\n",
    "abstraksi_train, abstraksi_test, label_train, label_test = train_test_split(abstraksi, label, test_size=0.2, stratify=label)"
   ]
  },
  {
   "cell_type": "code",
   "execution_count": 63,
   "metadata": {
    "id": "Ec7l0L776teC"
   },
   "outputs": [],
   "source": [
    "from tensorflow.keras.preprocessing.text import Tokenizer\n",
    "from tensorflow.keras.preprocessing.sequence import pad_sequences\n",
    "\n",
    "tokenizer = Tokenizer(num_words=5000, oov_token='x')\n",
    "tokenizer.fit_on_texts(abstraksi_train)\n",
    "\n",
    "sekuens_train = tokenizer.texts_to_sequences(abstraksi_train)\n",
    "sekuens_test = tokenizer.texts_to_sequences(abstraksi_test)\n",
    "\n",
    "padded_train = pad_sequences(sekuens_train)\n",
    "padded_test = pad_sequences(sekuens_test)"
   ]
  },
  {
   "cell_type": "code",
   "execution_count": 64,
   "metadata": {
    "id": "zV83Uo0K6vEW"
   },
   "outputs": [],
   "source": [
    "import tensorflow as tf\n",
    "\n",
    "model = tf.keras.Sequential([\n",
    "    tf.keras.layers.Embedding(input_dim=5000, output_dim=100),\n",
    "    tf.keras.layers.LSTM(64),\n",
    "    tf.keras.layers.Dense(128, activation='relu'),\n",
    "    tf.keras.layers.Dense(64, activation='relu'),\n",
    "    tf.keras.layers.Dense(6, activation='softmax')\n",
    "])\n",
    "\n",
    "early_stopping = tf.keras.callbacks.EarlyStopping(monitor='val_loss', patience=3, restore_best_weights=True)\n",
    "\n",
    "model.compile(loss='categorical_crossentropy', optimizer='adam', metrics=['accuracy'])"
   ]
  },
  {
   "cell_type": "code",
   "execution_count": 65,
   "metadata": {
    "colab": {
     "base_uri": "https://localhost:8080/",
     "height": 426
    },
    "id": "bFwbxepc6wvc",
    "outputId": "3e0ceace-8290-4cd9-c69a-ac32efce8bf1"
   },
   "outputs": [
    {
     "name": "stdout",
     "output_type": "stream",
     "text": [
      "Epoch 1/30\n",
      "852/852 - 544s - loss: 1.3399 - accuracy: 0.4238 - val_loss: 1.2176 - val_accuracy: 0.4526 - 544s/epoch - 639ms/step\n",
      "Epoch 2/30\n",
      "852/852 - 523s - loss: 1.1774 - accuracy: 0.4561 - val_loss: 1.2381 - val_accuracy: 0.4522 - 523s/epoch - 614ms/step\n",
      "Epoch 3/30\n",
      "852/852 - 523s - loss: 1.1181 - accuracy: 0.4847 - val_loss: 1.1620 - val_accuracy: 0.4765 - 523s/epoch - 614ms/step\n",
      "Epoch 4/30\n",
      "852/852 - 528s - loss: 1.0323 - accuracy: 0.5322 - val_loss: 1.1513 - val_accuracy: 0.4966 - 528s/epoch - 619ms/step\n",
      "Epoch 5/30\n",
      "852/852 - 525s - loss: 0.9560 - accuracy: 0.5820 - val_loss: 1.1631 - val_accuracy: 0.5043 - 525s/epoch - 616ms/step\n",
      "Epoch 6/30\n",
      "852/852 - 520s - loss: 0.8666 - accuracy: 0.6329 - val_loss: 1.2250 - val_accuracy: 0.4990 - 520s/epoch - 611ms/step\n",
      "Epoch 7/30\n",
      "852/852 - 524s - loss: 0.7794 - accuracy: 0.6795 - val_loss: 1.2240 - val_accuracy: 0.5270 - 524s/epoch - 615ms/step\n"
     ]
    }
   ],
   "source": [
    "num_epochs = 30\n",
    "history = model.fit(padded_train, label_train, epochs=num_epochs,\n",
    "                    validation_data=(padded_test, label_test), verbose=2, callbacks=[early_stopping])"
   ]
  },
  {
   "cell_type": "code",
   "execution_count": 66,
   "metadata": {
    "id": "0ScphL-66yFA"
   },
   "outputs": [
    {
     "data": {
      "image/png": "[encoded data removed]",
      "text/plain": [
       "<Figure size 640x480 with 1 Axes>"
      ]
     },
     "metadata": {},
     "output_type": "display_data"
    }
   ],
   "source": [
    "import matplotlib.pyplot as plt\n",
    "\n",
    "plt.plot(history.history['accuracy'])\n",
    "plt.plot(history.history['val_accuracy'])\n",
    "plt.title('Akurasi Model')\n",
    "plt.ylabel('accuracy')\n",
    "plt.xlabel('epoch')\n",
    "plt.legend(['train', 'test'], loc='upper left')\n",
    "plt.show()"
   ]
  },
  {
   "cell_type": "code",
   "execution_count": 67,
   "metadata": {
    "id": "Nt6CHQQW7K28"
   },
   "outputs": [
    {
     "data": {
      "image/png": "[encoded data removed]",
      "text/plain": [
       "<Figure size 640x480 with 1 Axes>"
      ]
     },
     "metadata": {},
     "output_type": "display_data"
    }
   ],
   "source": [
    "plt.plot(history.history['loss'])\n",
    "plt.plot(history.history['val_loss'])\n",
    "plt.title('Loss Model')\n",
    "plt.ylabel('loss')\n",
    "plt.xlabel('epoch')\n",
    "plt.legend(['train', 'test'], loc='upper left')\n",
    "plt.show()"
   ]
  },
  {
   "cell_type": "code",
   "execution_count": 56,
   "metadata": {},
   "outputs": [
    {
     "data": {
      "text/html": [
       "<div>\n",
       "<style scoped>\n",
       "    .dataframe tbody tr th:only-of-type {\n",
       "        vertical-align: middle;\n",
       "    }\n",
       "\n",
       "    .dataframe tbody tr th {\n",
       "        vertical-align: top;\n",
       "    }\n",
       "\n",
       "    .dataframe thead th {\n",
       "        text-align: right;\n",
       "    }\n",
       "</style>\n",
       "<table border=\"1\" class=\"dataframe\">\n",
       "  <thead>\n",
       "    <tr style=\"text-align: right;\">\n",
       "      <th></th>\n",
       "      <th>Abstracts</th>\n",
       "      <th>categories</th>\n",
       "    </tr>\n",
       "  </thead>\n",
       "  <tbody>\n",
       "    <tr>\n",
       "      <th>15528</th>\n",
       "      <td>Temporal Point Processes (TPP) play an importa...</td>\n",
       "      <td>['cs.LG']</td>\n",
       "    </tr>\n",
       "    <tr>\n",
       "      <th>15529</th>\n",
       "      <td>Forecasts are typically not produced in a vacu...</td>\n",
       "      <td>['cs.LG']</td>\n",
       "    </tr>\n",
       "    <tr>\n",
       "      <th>15530</th>\n",
       "      <td>The fundamental principle of Graph Neural Netw...</td>\n",
       "      <td>['cs.LG']</td>\n",
       "    </tr>\n",
       "    <tr>\n",
       "      <th>15531</th>\n",
       "      <td>The problem of offline reinforcement learning ...</td>\n",
       "      <td>['cs.LG']</td>\n",
       "    </tr>\n",
       "    <tr>\n",
       "      <th>15532</th>\n",
       "      <td>The recent success of multiple neural architec...</td>\n",
       "      <td>['cs.LG']</td>\n",
       "    </tr>\n",
       "    <tr>\n",
       "      <th>...</th>\n",
       "      <td>...</td>\n",
       "      <td>...</td>\n",
       "    </tr>\n",
       "    <tr>\n",
       "      <th>23663</th>\n",
       "      <td>Safety is a primary concern when applying rein...</td>\n",
       "      <td>['cs.LG']</td>\n",
       "    </tr>\n",
       "    <tr>\n",
       "      <th>23664</th>\n",
       "      <td>Exploration is a significant challenge in prac...</td>\n",
       "      <td>['cs.LG']</td>\n",
       "    </tr>\n",
       "    <tr>\n",
       "      <th>23665</th>\n",
       "      <td>We present IBSEAD or distributed autonomous en...</td>\n",
       "      <td>['cs.LG']</td>\n",
       "    </tr>\n",
       "    <tr>\n",
       "      <th>23666</th>\n",
       "      <td>Asymmetrical distance structures (quasimetrics...</td>\n",
       "      <td>['cs.LG']</td>\n",
       "    </tr>\n",
       "    <tr>\n",
       "      <th>23667</th>\n",
       "      <td>Deep learning models are favored in many resea...</td>\n",
       "      <td>['cs.LG']</td>\n",
       "    </tr>\n",
       "  </tbody>\n",
       "</table>\n",
       "<p>8140 rows × 2 columns</p>\n",
       "</div>"
      ],
      "text/plain": [
       "                                               Abstracts categories\n",
       "15528  Temporal Point Processes (TPP) play an importa...  ['cs.LG']\n",
       "15529  Forecasts are typically not produced in a vacu...  ['cs.LG']\n",
       "15530  The fundamental principle of Graph Neural Netw...  ['cs.LG']\n",
       "15531  The problem of offline reinforcement learning ...  ['cs.LG']\n",
       "15532  The recent success of multiple neural architec...  ['cs.LG']\n",
       "...                                                  ...        ...\n",
       "23663  Safety is a primary concern when applying rein...  ['cs.LG']\n",
       "23664  Exploration is a significant challenge in prac...  ['cs.LG']\n",
       "23665  We present IBSEAD or distributed autonomous en...  ['cs.LG']\n",
       "23666  Asymmetrical distance structures (quasimetrics...  ['cs.LG']\n",
       "23667  Deep learning models are favored in many resea...  ['cs.LG']\n",
       "\n",
       "[8140 rows x 2 columns]"
      ]
     },
     "execution_count": 56,
     "metadata": {},
     "output_type": "execute_result"
    }
   ],
   "source": [
    "df[df['categories'] == \"['cs.LG']\"]"
   ]
  },
  {
   "cell_type": "code",
   "execution_count": 70,
   "metadata": {
    "id": "wYql_zLcJDnI"
   },
   "outputs": [
    {
     "name": "stdout",
     "output_type": "stream",
     "text": [
      "46/46 [==============================] - 0s 2ms/step\n",
      "Input:\n",
      "Despite the importance of unsupervised object detection, to the best of our\n",
      "knowledge, there is no previous work addressing this problem. One main issue,\n",
      "widely known to the community, is that object boundaries derived only from 2D\n",
      "image appearance are ambiguous and unreliable. To address this, we exploit\n",
      "LiDAR clues to aid unsupervised object detection. By exploiting the 3D scene\n",
      "structure, the issue of localization can be considerably mitigated. We further\n",
      "identify another major issue, seldom noticed by the community, that the\n",
      "long-tailed and open-ended (sub-)category distribution should be accommodated.\n",
      "In this paper, we present the first practical method for unsupervised object\n",
      "detection with the aid of LiDAR clues. In our approach, candidate object\n",
      "segments based on 3D point clouds are firstly generated. Then, an iterative\n",
      "segment labeling process is conducted to assign segment labels and to train a\n",
      "segment labeling network, which is based on features from both 2D images and 3D\n",
      "point clouds. The labeling process is carefully designed so as to mitigate the\n",
      "issue of long-tailed and open-ended distribution. The final segment labels are\n",
      "set as pseudo annotations for object detection network training. Extensive\n",
      "experiments on the large-scale Waymo Open dataset suggest that the derived\n",
      "unsupervised object detection method achieves reasonable accuracy compared with\n",
      "that of strong supervision within the LiDAR visible range. Code shall be\n",
      "released.\n",
      "\n",
      "Predicted Result:\n",
      "['cs.LG', 'stat.ML']\n",
      "\n",
      "Real Result:\n",
      "['cs.CV']\n"
     ]
    }
   ],
   "source": [
    "import numpy as np\n",
    "\n",
    "index = 23\n",
    "\n",
    "# testing model on specific input\n",
    "input = df['Abstracts'][index]\n",
    "padded_input = pad_sequences(tokenizer.texts_to_sequences(input))\n",
    "\n",
    "# Predict the result\n",
    "predicted_result = model.predict(padded_input)\n",
    "\n",
    "predicted_class = np.argmax(predicted_result, axis=1)[0]  # Get the index of the highest probability\n",
    "\n",
    "# Define the class index to label mapping\n",
    "index_to_label = {0: \"['cs.CV', 'cs.AI']\", 1: \"['cs.CV', 'cs.LG']\", 2: \"['cs.CV']\", 3: \"['cs.LG', 'cs.AI']\", 4: \"['cs.LG', 'stat.ML']\", 5: \"['cs.LG']\"}  # Add all class indices and their labels\n",
    "\n",
    "# Convert the predicted index to a string label\n",
    "predicted_label = index_to_label[predicted_class]\n",
    "\n",
    "real_result = df['categories'][index]\n",
    "\n",
    "print(\"Input:\\n\" + input)\n",
    "print(\"\\nPredicted Result:\\n\" + predicted_label)\n",
    "print(\"\\nReal Result:\\n\" + real_result)"
   ]
  }
 ],
 "metadata": {
  "colab": {
   "provenance": []
  },
  "kernelspec": {
   "display_name": "Python 3 (ipykernel)",
   "language": "python",
   "name": "python3"
  },
  "language_info": {
   "codemirror_mode": {
    "name": "ipython",
    "version": 3
   },
   "file_extension": ".py",
   "mimetype": "text/x-python",
   "name": "python",
   "nbconvert_exporter": "python",
   "pygments_lexer": "ipython3",
   "version": "3.11.4"
  }
 },
 "nbformat": 4,
 "nbformat_minor": 4
}
