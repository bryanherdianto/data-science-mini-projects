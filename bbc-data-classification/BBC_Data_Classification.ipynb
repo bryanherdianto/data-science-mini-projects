{
 "cells": [
  {
   "cell_type": "markdown",
   "metadata": {
    "id": "iolIPhVb56-M"
   },
   "source": [
    "# BBC Data Classification with LSTM\n",
    "Nama: Bryan Herdianto  \n",
    "Email: bryan.herdianto17@gmail.com"
   ]
  },
  {
   "cell_type": "code",
   "execution_count": 1,
   "metadata": {
    "colab": {
     "base_uri": "https://localhost:8080/",
     "height": 423
    },
    "id": "ESgTjxsm5jXB",
    "outputId": "5ae7fbcd-8511-4e6f-d9c6-aad30e613e93"
   },
   "outputs": [
    {
     "data": {
      "text/html": [
       "<div>\n",
       "<style scoped>\n",
       "    .dataframe tbody tr th:only-of-type {\n",
       "        vertical-align: middle;\n",
       "    }\n",
       "\n",
       "    .dataframe tbody tr th {\n",
       "        vertical-align: top;\n",
       "    }\n",
       "\n",
       "    .dataframe thead th {\n",
       "        text-align: right;\n",
       "    }\n",
       "</style>\n",
       "<table border=\"1\" class=\"dataframe\">\n",
       "  <thead>\n",
       "    <tr style=\"text-align: right;\">\n",
       "      <th></th>\n",
       "      <th>data</th>\n",
       "      <th>labels</th>\n",
       "    </tr>\n",
       "  </thead>\n",
       "  <tbody>\n",
       "    <tr>\n",
       "      <th>0</th>\n",
       "      <td>Musicians to tackle US red tape  Musicians gro...</td>\n",
       "      <td>entertainment</td>\n",
       "    </tr>\n",
       "    <tr>\n",
       "      <th>1</th>\n",
       "      <td>U2s desire to be number one  U2, who have won ...</td>\n",
       "      <td>entertainment</td>\n",
       "    </tr>\n",
       "    <tr>\n",
       "      <th>2</th>\n",
       "      <td>Rocker Doherty in on-stage fight  Rock singer ...</td>\n",
       "      <td>entertainment</td>\n",
       "    </tr>\n",
       "    <tr>\n",
       "      <th>3</th>\n",
       "      <td>Snicket tops US box office chart  The film ada...</td>\n",
       "      <td>entertainment</td>\n",
       "    </tr>\n",
       "    <tr>\n",
       "      <th>4</th>\n",
       "      <td>Oceans Twelve raids box office  Oceans Twelve,...</td>\n",
       "      <td>entertainment</td>\n",
       "    </tr>\n",
       "    <tr>\n",
       "      <th>...</th>\n",
       "      <td>...</td>\n",
       "      <td>...</td>\n",
       "    </tr>\n",
       "    <tr>\n",
       "      <th>2220</th>\n",
       "      <td>Warning over Windows Word files  Writing a Mic...</td>\n",
       "      <td>tech</td>\n",
       "    </tr>\n",
       "    <tr>\n",
       "      <th>2221</th>\n",
       "      <td>Fast lifts rise into record books  Two high-sp...</td>\n",
       "      <td>tech</td>\n",
       "    </tr>\n",
       "    <tr>\n",
       "      <th>2222</th>\n",
       "      <td>Nintendo adds media playing to DS  Nintendo is...</td>\n",
       "      <td>tech</td>\n",
       "    </tr>\n",
       "    <tr>\n",
       "      <th>2223</th>\n",
       "      <td>Fast moving phone viruses appear  Security fir...</td>\n",
       "      <td>tech</td>\n",
       "    </tr>\n",
       "    <tr>\n",
       "      <th>2224</th>\n",
       "      <td>Hacker threat to Apples iTunes  Users of Apple...</td>\n",
       "      <td>tech</td>\n",
       "    </tr>\n",
       "  </tbody>\n",
       "</table>\n",
       "<p>2225 rows × 2 columns</p>\n",
       "</div>"
      ],
      "text/plain": [
       "                                                   data         labels\n",
       "0     Musicians to tackle US red tape  Musicians gro...  entertainment\n",
       "1     U2s desire to be number one  U2, who have won ...  entertainment\n",
       "2     Rocker Doherty in on-stage fight  Rock singer ...  entertainment\n",
       "3     Snicket tops US box office chart  The film ada...  entertainment\n",
       "4     Oceans Twelve raids box office  Oceans Twelve,...  entertainment\n",
       "...                                                 ...            ...\n",
       "2220  Warning over Windows Word files  Writing a Mic...           tech\n",
       "2221  Fast lifts rise into record books  Two high-sp...           tech\n",
       "2222  Nintendo adds media playing to DS  Nintendo is...           tech\n",
       "2223  Fast moving phone viruses appear  Security fir...           tech\n",
       "2224  Hacker threat to Apples iTunes  Users of Apple...           tech\n",
       "\n",
       "[2225 rows x 2 columns]"
      ]
     },
     "execution_count": 1,
     "metadata": {},
     "output_type": "execute_result"
    }
   ],
   "source": [
    "import pandas as pd\n",
    "df = pd.read_csv('https://raw.githubusercontent.com/bryanherdianto/data-science-mini-projects/main/bbc-data-classification/bbc_data.csv')\n",
    "df"
   ]
  },
  {
   "cell_type": "code",
   "execution_count": 3,
   "metadata": {
    "colab": {
     "base_uri": "https://localhost:8080/",
     "height": 1000
    },
    "id": "sltEQbXQ6oyk",
    "outputId": "1ae467b9-ee75-4017-f81e-f0007ce2e49b"
   },
   "outputs": [
    {
     "data": {
      "text/html": [
       "<div>\n",
       "<style scoped>\n",
       "    .dataframe tbody tr th:only-of-type {\n",
       "        vertical-align: middle;\n",
       "    }\n",
       "\n",
       "    .dataframe tbody tr th {\n",
       "        vertical-align: top;\n",
       "    }\n",
       "\n",
       "    .dataframe thead th {\n",
       "        text-align: right;\n",
       "    }\n",
       "</style>\n",
       "<table border=\"1\" class=\"dataframe\">\n",
       "  <thead>\n",
       "    <tr style=\"text-align: right;\">\n",
       "      <th></th>\n",
       "      <th>data</th>\n",
       "      <th>business</th>\n",
       "      <th>entertainment</th>\n",
       "      <th>politics</th>\n",
       "      <th>sport</th>\n",
       "      <th>tech</th>\n",
       "    </tr>\n",
       "  </thead>\n",
       "  <tbody>\n",
       "    <tr>\n",
       "      <th>0</th>\n",
       "      <td>Musicians to tackle US red tape  Musicians gro...</td>\n",
       "      <td>False</td>\n",
       "      <td>True</td>\n",
       "      <td>False</td>\n",
       "      <td>False</td>\n",
       "      <td>False</td>\n",
       "    </tr>\n",
       "    <tr>\n",
       "      <th>1</th>\n",
       "      <td>U2s desire to be number one  U2, who have won ...</td>\n",
       "      <td>False</td>\n",
       "      <td>True</td>\n",
       "      <td>False</td>\n",
       "      <td>False</td>\n",
       "      <td>False</td>\n",
       "    </tr>\n",
       "    <tr>\n",
       "      <th>2</th>\n",
       "      <td>Rocker Doherty in on-stage fight  Rock singer ...</td>\n",
       "      <td>False</td>\n",
       "      <td>True</td>\n",
       "      <td>False</td>\n",
       "      <td>False</td>\n",
       "      <td>False</td>\n",
       "    </tr>\n",
       "    <tr>\n",
       "      <th>3</th>\n",
       "      <td>Snicket tops US box office chart  The film ada...</td>\n",
       "      <td>False</td>\n",
       "      <td>True</td>\n",
       "      <td>False</td>\n",
       "      <td>False</td>\n",
       "      <td>False</td>\n",
       "    </tr>\n",
       "    <tr>\n",
       "      <th>4</th>\n",
       "      <td>Oceans Twelve raids box office  Oceans Twelve,...</td>\n",
       "      <td>False</td>\n",
       "      <td>True</td>\n",
       "      <td>False</td>\n",
       "      <td>False</td>\n",
       "      <td>False</td>\n",
       "    </tr>\n",
       "    <tr>\n",
       "      <th>...</th>\n",
       "      <td>...</td>\n",
       "      <td>...</td>\n",
       "      <td>...</td>\n",
       "      <td>...</td>\n",
       "      <td>...</td>\n",
       "      <td>...</td>\n",
       "    </tr>\n",
       "    <tr>\n",
       "      <th>2220</th>\n",
       "      <td>Warning over Windows Word files  Writing a Mic...</td>\n",
       "      <td>False</td>\n",
       "      <td>False</td>\n",
       "      <td>False</td>\n",
       "      <td>False</td>\n",
       "      <td>True</td>\n",
       "    </tr>\n",
       "    <tr>\n",
       "      <th>2221</th>\n",
       "      <td>Fast lifts rise into record books  Two high-sp...</td>\n",
       "      <td>False</td>\n",
       "      <td>False</td>\n",
       "      <td>False</td>\n",
       "      <td>False</td>\n",
       "      <td>True</td>\n",
       "    </tr>\n",
       "    <tr>\n",
       "      <th>2222</th>\n",
       "      <td>Nintendo adds media playing to DS  Nintendo is...</td>\n",
       "      <td>False</td>\n",
       "      <td>False</td>\n",
       "      <td>False</td>\n",
       "      <td>False</td>\n",
       "      <td>True</td>\n",
       "    </tr>\n",
       "    <tr>\n",
       "      <th>2223</th>\n",
       "      <td>Fast moving phone viruses appear  Security fir...</td>\n",
       "      <td>False</td>\n",
       "      <td>False</td>\n",
       "      <td>False</td>\n",
       "      <td>False</td>\n",
       "      <td>True</td>\n",
       "    </tr>\n",
       "    <tr>\n",
       "      <th>2224</th>\n",
       "      <td>Hacker threat to Apples iTunes  Users of Apple...</td>\n",
       "      <td>False</td>\n",
       "      <td>False</td>\n",
       "      <td>False</td>\n",
       "      <td>False</td>\n",
       "      <td>True</td>\n",
       "    </tr>\n",
       "  </tbody>\n",
       "</table>\n",
       "<p>2225 rows × 6 columns</p>\n",
       "</div>"
      ],
      "text/plain": [
       "                                                   data  business  \\\n",
       "0     Musicians to tackle US red tape  Musicians gro...     False   \n",
       "1     U2s desire to be number one  U2, who have won ...     False   \n",
       "2     Rocker Doherty in on-stage fight  Rock singer ...     False   \n",
       "3     Snicket tops US box office chart  The film ada...     False   \n",
       "4     Oceans Twelve raids box office  Oceans Twelve,...     False   \n",
       "...                                                 ...       ...   \n",
       "2220  Warning over Windows Word files  Writing a Mic...     False   \n",
       "2221  Fast lifts rise into record books  Two high-sp...     False   \n",
       "2222  Nintendo adds media playing to DS  Nintendo is...     False   \n",
       "2223  Fast moving phone viruses appear  Security fir...     False   \n",
       "2224  Hacker threat to Apples iTunes  Users of Apple...     False   \n",
       "\n",
       "      entertainment  politics  sport   tech  \n",
       "0              True     False  False  False  \n",
       "1              True     False  False  False  \n",
       "2              True     False  False  False  \n",
       "3              True     False  False  False  \n",
       "4              True     False  False  False  \n",
       "...             ...       ...    ...    ...  \n",
       "2220          False     False  False   True  \n",
       "2221          False     False  False   True  \n",
       "2222          False     False  False   True  \n",
       "2223          False     False  False   True  \n",
       "2224          False     False  False   True  \n",
       "\n",
       "[2225 rows x 6 columns]"
      ]
     },
     "execution_count": 3,
     "metadata": {},
     "output_type": "execute_result"
    }
   ],
   "source": [
    "category = pd.get_dummies(df['labels'])\n",
    "df_baru = pd.concat([df, category], axis=1)\n",
    "df_baru = df_baru.drop(columns='labels')\n",
    "df_baru"
   ]
  },
  {
   "cell_type": "code",
   "execution_count": 4,
   "metadata": {
    "id": "RttI1FTK6qNa"
   },
   "outputs": [],
   "source": [
    "abstraksi = df_baru['data'].values\n",
    "label = df_baru[[\"business\", \"entertainment\", \"politics\", \"sport\", \"tech\"]].values"
   ]
  },
  {
   "cell_type": "code",
   "execution_count": 5,
   "metadata": {
    "id": "wbGCpN7Z6rmx"
   },
   "outputs": [],
   "source": [
    "from sklearn.model_selection import train_test_split\n",
    "\n",
    "abstraksi_train, abstraksi_test, label_train, label_test = train_test_split(abstraksi, label, test_size=0.2, stratify=label)"
   ]
  },
  {
   "cell_type": "code",
   "execution_count": 6,
   "metadata": {
    "id": "Ec7l0L776teC"
   },
   "outputs": [],
   "source": [
    "from tensorflow.keras.preprocessing.text import Tokenizer\n",
    "from tensorflow.keras.preprocessing.sequence import pad_sequences\n",
    "\n",
    "tokenizer = Tokenizer(num_words=5000, oov_token='x')\n",
    "tokenizer.fit_on_texts(abstraksi_train)\n",
    "tokenizer.fit_on_texts(abstraksi_test)\n",
    "\n",
    "sekuens_train = tokenizer.texts_to_sequences(abstraksi_train)\n",
    "sekuens_test = tokenizer.texts_to_sequences(abstraksi_test)\n",
    "\n",
    "padded_train = pad_sequences(sekuens_train)\n",
    "padded_test = pad_sequences(sekuens_test)"
   ]
  },
  {
   "cell_type": "code",
   "execution_count": 11,
   "metadata": {
    "id": "zV83Uo0K6vEW"
   },
   "outputs": [],
   "source": [
    "import tensorflow as tf\n",
    "\n",
    "model = tf.keras.Sequential([\n",
    "    tf.keras.layers.Embedding(input_dim=5000, output_dim=16),\n",
    "    tf.keras.layers.LSTM(64),\n",
    "    tf.keras.layers.Dense(128, activation='relu'),\n",
    "    tf.keras.layers.Dense(64, activation='relu'),\n",
    "    tf.keras.layers.Dense(5, activation='softmax')\n",
    "])\n",
    "\n",
    "early_stopping = tf.keras.callbacks.EarlyStopping(monitor='val_loss', patience=3, restore_best_weights=True)\n",
    "\n",
    "model.compile(loss='categorical_crossentropy', optimizer='adam', metrics=['accuracy'])"
   ]
  },
  {
   "cell_type": "code",
   "execution_count": 18,
   "metadata": {},
   "outputs": [
    {
     "name": "stdout",
     "output_type": "stream",
     "text": [
      "Model: \"sequential_2\"\n",
      "_________________________________________________________________\n",
      " Layer (type)                Output Shape              Param #   \n",
      "=================================================================\n",
      " embedding_2 (Embedding)     (None, None, 16)          80000     \n",
      "                                                                 \n",
      " lstm_2 (LSTM)               (None, 64)                20736     \n",
      "                                                                 \n",
      " dense_6 (Dense)             (None, 128)               8320      \n",
      "                                                                 \n",
      " dense_7 (Dense)             (None, 64)                8256      \n",
      "                                                                 \n",
      " dense_8 (Dense)             (None, 5)                 325       \n",
      "                                                                 \n",
      "=================================================================\n",
      "Total params: 117,637\n",
      "Trainable params: 117,637\n",
      "Non-trainable params: 0\n",
      "_________________________________________________________________\n"
     ]
    }
   ],
   "source": [
    "model.summary()"
   ]
  },
  {
   "cell_type": "code",
   "execution_count": 12,
   "metadata": {
    "colab": {
     "base_uri": "https://localhost:8080/",
     "height": 426
    },
    "id": "bFwbxepc6wvc",
    "outputId": "3e0ceace-8290-4cd9-c69a-ac32efce8bf1"
   },
   "outputs": [
    {
     "name": "stdout",
     "output_type": "stream",
     "text": [
      "Epoch 1/15\n",
      "56/56 - 235s - loss: 1.6072 - accuracy: 0.2303 - val_loss: 1.5767 - val_accuracy: 0.3393 - 235s/epoch - 4s/step\n",
      "Epoch 2/15\n",
      "56/56 - 235s - loss: 1.4265 - accuracy: 0.3753 - val_loss: 1.1324 - val_accuracy: 0.5034 - 235s/epoch - 4s/step\n",
      "Epoch 3/15\n",
      "56/56 - 230s - loss: 0.9233 - accuracy: 0.5916 - val_loss: 0.9761 - val_accuracy: 0.5843 - 230s/epoch - 4s/step\n",
      "Epoch 4/15\n",
      "56/56 - 314s - loss: 0.6669 - accuracy: 0.6899 - val_loss: 0.9124 - val_accuracy: 0.6517 - 314s/epoch - 6s/step\n",
      "Epoch 5/15\n",
      "56/56 - 336s - loss: 0.4454 - accuracy: 0.8275 - val_loss: 0.9796 - val_accuracy: 0.6697 - 336s/epoch - 6s/step\n",
      "Epoch 6/15\n",
      "56/56 - 338s - loss: 0.3194 - accuracy: 0.8775 - val_loss: 0.8902 - val_accuracy: 0.7303 - 338s/epoch - 6s/step\n",
      "Epoch 7/15\n",
      "56/56 - 337s - loss: 0.1413 - accuracy: 0.9522 - val_loss: 0.8601 - val_accuracy: 0.7551 - 337s/epoch - 6s/step\n",
      "Epoch 8/15\n",
      "56/56 - 336s - loss: 0.0532 - accuracy: 0.9843 - val_loss: 0.9912 - val_accuracy: 0.7910 - 336s/epoch - 6s/step\n",
      "Epoch 9/15\n",
      "56/56 - 336s - loss: 0.0233 - accuracy: 0.9955 - val_loss: 0.8853 - val_accuracy: 0.8180 - 336s/epoch - 6s/step\n",
      "Epoch 10/15\n",
      "56/56 - 339s - loss: 0.0733 - accuracy: 0.9787 - val_loss: 1.0618 - val_accuracy: 0.7461 - 339s/epoch - 6s/step\n"
     ]
    }
   ],
   "source": [
    "num_epochs = 15\n",
    "history = model.fit(padded_train, label_train, epochs=num_epochs,\n",
    "                    validation_data=(padded_test, label_test), verbose=2,\n",
    "                    callbacks=[early_stopping])"
   ]
  },
  {
   "cell_type": "code",
   "execution_count": 13,
   "metadata": {
    "id": "0ScphL-66yFA"
   },
   "outputs": [
    {
     "data": {
      "image/png": "[encoded data removed]",
      "text/plain": [
       "<Figure size 640x480 with 1 Axes>"
      ]
     },
     "metadata": {},
     "output_type": "display_data"
    }
   ],
   "source": [
    "import matplotlib.pyplot as plt\n",
    "\n",
    "plt.plot(history.history['accuracy'])\n",
    "plt.plot(history.history['val_accuracy'])\n",
    "plt.title('Akurasi Model')\n",
    "plt.ylabel('accuracy')\n",
    "plt.xlabel('epoch')\n",
    "plt.legend(['train', 'test'], loc='upper left')\n",
    "plt.show()"
   ]
  },
  {
   "cell_type": "code",
   "execution_count": 14,
   "metadata": {
    "id": "Nt6CHQQW7K28"
   },
   "outputs": [
    {
     "data": {
      "image/png": "[encoded data removed]",
      "text/plain": [
       "<Figure size 640x480 with 1 Axes>"
      ]
     },
     "metadata": {},
     "output_type": "display_data"
    }
   ],
   "source": [
    "plt.plot(history.history['loss'])\n",
    "plt.plot(history.history['val_loss'])\n",
    "plt.title('Loss Model')\n",
    "plt.ylabel('loss')\n",
    "plt.xlabel('epoch')\n",
    "plt.legend(['train', 'test'], loc='upper left')\n",
    "plt.show()"
   ]
  },
  {
   "cell_type": "code",
   "execution_count": 17,
   "metadata": {
    "id": "wYql_zLcJDnI"
   },
   "outputs": [
    {
     "name": "stdout",
     "output_type": "stream",
     "text": [
      "53/53 [==============================] - 0s 3ms/step\n",
      "Input:\n",
      "Parmalat to return to stockmarket  Parmalat, the Italian dairy company which went bust after an accounting scandal, hopes to be back on the Italian stock exchange in July.  The firm gained protection from creditors in 2003 after revealing debts of 14bn euros ($18.34bn; xc2xa39.6bn). This was eight times higher than it had previously stated. In a statement issued on Wednesday night, Parmalat Finanziaria detailed administrators latest plans for re-listing the shares of the group.  As part of the re-listing on the Italian stock exchange, creditors debts are expected to be converted into shares through two new share issues amounting to more than 2bn euros. The companys creditors will be asked to vote on the plan later this year. The plan is likely to give creditors of Parmalat Finanziaria shares worth about 5.7% of the debts they are owed. This is lower than the 11.3% creditors previously hoped to receive. Creditors of Parmalat, the main operating company, are likely to see the percentage of debt they receive fall from 7.3% to 6.9%.  Several former top Parmalat executives are under investigation for the fraud scandal. Lawmakers said on Wednesday night Enrico Bondi, the turnaround specialist appointed by the Italian government as Parmalats chief executive, spoke positively about the company during a closed-door hearing of the Chamber of Deputies industry commission. \"Bondi supplied us with elements of positive results on the industrial positions and on the history of debt which will find a point of solution through the Parmalat groups quotation on the market in July,\" Italian news agency Apcom quoted several lawmakers as saying in a statement. \n",
      "\n",
      "Predicted Result:\n",
      "business\n",
      "\n",
      "Real Result:\n",
      "business\n"
     ]
    }
   ],
   "source": [
    "import numpy as np\n",
    "\n",
    "index = 393\n",
    "\n",
    "# testing model on specific input\n",
    "input = df['data'][index]\n",
    "padded_input = pad_sequences(tokenizer.texts_to_sequences(input))\n",
    "\n",
    "# Predict the result\n",
    "predicted_result = model.predict(padded_input)\n",
    "\n",
    "predicted_class = np.argmax(predicted_result, axis=1)[0]  # Get the index of the highest probability\n",
    "\n",
    "# Define the class index to label mapping\n",
    "index_to_label = {0: \"business\", 1: \"entertainment\", 2: \"politics\", 3: \"sport\", 4: \"tech\"}  # Add all class indices and their labels\n",
    "\n",
    "# Convert the predicted index to a string label\n",
    "predicted_label = index_to_label[predicted_class]\n",
    "\n",
    "real_result = df['labels'][index]\n",
    "\n",
    "print(\"Input:\\n\" + input)\n",
    "print(\"\\nPredicted Result:\\n\" + predicted_label)\n",
    "print(\"\\nReal Result:\\n\" + real_result)"
   ]
  }
 ],
 "metadata": {
  "colab": {
   "provenance": []
  },
  "kernelspec": {
   "display_name": "Python 3 (ipykernel)",
   "language": "python",
   "name": "python3"
  },
  "language_info": {
   "codemirror_mode": {
    "name": "ipython",
    "version": 3
   },
   "file_extension": ".py",
   "mimetype": "text/x-python",
   "name": "python",
   "nbconvert_exporter": "python",
   "pygments_lexer": "ipython3",
   "version": "3.11.4"
  }
 },
 "nbformat": 4,
 "nbformat_minor": 4
}
